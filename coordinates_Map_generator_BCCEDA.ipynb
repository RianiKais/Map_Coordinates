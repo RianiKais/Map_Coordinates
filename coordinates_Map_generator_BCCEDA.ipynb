{
 "cells": [
  {
   "cell_type": "code",
   "execution_count": 20,
   "id": "2f5e53c0",
   "metadata": {},
   "outputs": [
    {
     "name": "stdout",
     "output_type": "stream",
     "text": [
      "Collecting gmplot\n",
      "  Downloading gmplot-1.4.1-py3-none-any.whl (164 kB)\n",
      "     -------------------------------------- 164.7/164.7 kB 2.0 MB/s eta 0:00:00\n",
      "Requirement already satisfied: requests in c:\\users\\kais-\\anaconda3\\lib\\site-packages (from gmplot) (2.27.1)\n",
      "Requirement already satisfied: urllib3<1.27,>=1.21.1 in c:\\users\\kais-\\anaconda3\\lib\\site-packages (from requests->gmplot) (1.26.9)\n",
      "Requirement already satisfied: certifi>=2017.4.17 in c:\\users\\kais-\\anaconda3\\lib\\site-packages (from requests->gmplot) (2021.10.8)\n",
      "Requirement already satisfied: charset-normalizer~=2.0.0 in c:\\users\\kais-\\anaconda3\\lib\\site-packages (from requests->gmplot) (2.0.4)\n",
      "Requirement already satisfied: idna<4,>=2.5 in c:\\users\\kais-\\anaconda3\\lib\\site-packages (from requests->gmplot) (3.3)\n",
      "Installing collected packages: gmplot\n",
      "Successfully installed gmplot-1.4.1\n"
     ]
    }
   ],
   "source": [
    "!pip install gmplot\n"
   ]
  },
  {
   "cell_type": "code",
   "execution_count": 2,
   "id": "0843a404",
   "metadata": {},
   "outputs": [],
   "source": [
    "import csv\n",
    "import gmplot\n",
    "\n",
    "# Read the CSV file\n",
    "csv_file = 'coordinates2.csv'\n",
    "with open(csv_file, 'r') as file:\n",
    "    reader = csv.reader(file)\n",
    "    next(reader)  # Skip the header row\n",
    "    coordinates = [(float(row[0]), float(row[1])) for row in reader]\n",
    "\n",
    "# Get the center coordinates for setting the map's viewport\n",
    "center_lat = sum(coord[0] for coord in coordinates) / len(coordinates)\n",
    "center_lng = sum(coord[1] for coord in coordinates) / len(coordinates)\n",
    "\n",
    "# Create the map plotter\n",
    "gmap = gmplot.GoogleMapPlotter(center_lat, center_lng, 13, apikey='Provide your private Key here')\n",
    "\n",
    "# Plot the coordinates on the map\n",
    "gmap.scatter(*zip(*coordinates), color='red', size=40, marker=True)\n",
    "\n",
    "# Generate an HTML file containing the map\n",
    "gmap.draw('map2.html')\n"
   ]
  },
  {
   "cell_type": "code",
   "execution_count": null,
   "id": "293f7320",
   "metadata": {},
   "outputs": [],
   "source": []
  }
 ],
 "metadata": {
  "kernelspec": {
   "display_name": "Python 3 (ipykernel)",
   "language": "python",
   "name": "python3"
  },
  "language_info": {
   "codemirror_mode": {
    "name": "ipython",
    "version": 3
   },
   "file_extension": ".py",
   "mimetype": "text/x-python",
   "name": "python",
   "nbconvert_exporter": "python",
   "pygments_lexer": "ipython3",
   "version": "3.9.12"
  }
 },
 "nbformat": 4,
 "nbformat_minor": 5
}
