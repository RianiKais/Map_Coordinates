{
 "cells": [
  {
   "cell_type": "code",
   "execution_count": null,
   "id": "235645b6",
   "metadata": {},
   "outputs": [],
   "source": [
    "import requests\n",
    "import csv\n",
    "\n",
    "# Set your Google Maps Geocoding API key\n",
    "api_key = \"Provide your private Key here\"#\n",
    "\n",
    "# Set the base URL for the Geocoding API\n",
    "base_url = \"https://maps.googleapis.com/maps/api/geocode/json\"\n",
    "\n",
    "# Function to geocode an address\n",
    "def geocode_address(address):\n",
    "    # Prepare the parameters for the request\n",
    "    params = {\n",
    "        \"address\": address,\n",
    "        \"key\": api_key\n",
    "    }\n",
    "\n",
    "    # Send a GET request to the Geocoding API\n",
    "    response = requests.get(base_url, params=params)\n",
    "\n",
    "    # Process the response\n",
    "    if response.status_code == 200:\n",
    "        data = response.json()\n",
    "        # Extract the latitude and longitude from the response\n",
    "        if data[\"status\"] == \"OK\":\n",
    "            location = data[\"results\"][0][\"geometry\"][\"location\"]\n",
    "            latitude = location[\"lat\"]\n",
    "            longitude = location[\"lng\"]\n",
    "            print(\"Address:\", address)\n",
    "            print(\"Latitude:\", latitude)\n",
    "            print(\"Longitude:\", longitude)\n",
    "        else:\n",
    "            print(\"Geocoding API request failed for address:\", address)\n",
    "    else:\n",
    "        print(\"Failed to make a request to the Geocoding API for address:\", address)\n",
    "\n",
    "# Read addresses from CSV file\n",
    "with open(\"addresses.csv\", \"r\") as file:\n",
    "    csv_reader = csv.reader(file)\n",
    "    next(csv_reader)  # Skip header row\n",
    "    for row in csv_reader:\n",
    "        address = row[0]  # Assuming the address column is in the first position\n",
    "        geocode_address(address)\n"
   ]
  }
 ],
 "metadata": {
  "kernelspec": {
   "display_name": "Python 3 (ipykernel)",
   "language": "python",
   "name": "python3"
  },
  "language_info": {
   "codemirror_mode": {
    "name": "ipython",
    "version": 3
   },
   "file_extension": ".py",
   "mimetype": "text/x-python",
   "name": "python",
   "nbconvert_exporter": "python",
   "pygments_lexer": "ipython3",
   "version": "3.9.12"
  }
 },
 "nbformat": 4,
 "nbformat_minor": 5
}
